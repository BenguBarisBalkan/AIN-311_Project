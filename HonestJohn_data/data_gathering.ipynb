{
 "cells": [
  {
   "cell_type": "code",
   "execution_count": 3,
   "metadata": {},
   "outputs": [],
   "source": [
    "import pandas as pd\n",
    "\n",
    "# Scrapy tarafından çekilen JSON dosyasını oku\n",
    "with open('output.json') as f:\n",
    "    data = pd.read_json(f)\n",
    "\n",
    "# Veriyi DataFrame'e çevir\n",
    "car_info_df = pd.DataFrame(data)\n",
    "# \"\\n\" ifadelerini ve boşlukları temizle\n",
    "car_info_df['Brand'] = car_info_df['Brand'].str.replace('\\n', '').str.strip()\n",
    "car_info_df['MPG'] = car_info_df['MPG'].str.replace('\\n', '').str.strip()\n",
    "# \"Real MPG: \" ifadesini kaldır\n",
    "car_info_df['Brand'] = car_info_df['Brand'].str.replace('Real MPG: ', '')"
   ]
  },
  {
   "cell_type": "code",
   "execution_count": 4,
   "metadata": {},
   "outputs": [],
   "source": [
    "# DataFrame'i CSV dosyasına kaydet\n",
    "car_info_df.to_csv('car_info.csv', index=False)"
   ]
  }
 ],
 "metadata": {
  "kernelspec": {
   "display_name": "Python 3",
   "language": "python",
   "name": "python3"
  },
  "language_info": {
   "codemirror_mode": {
    "name": "ipython",
    "version": 3
   },
   "file_extension": ".py",
   "mimetype": "text/x-python",
   "name": "python",
   "nbconvert_exporter": "python",
   "pygments_lexer": "ipython3",
   "version": "3.11.1"
  }
 },
 "nbformat": 4,
 "nbformat_minor": 2
}
