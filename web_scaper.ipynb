{
  "cells": [
    {
      "cell_type": "markdown",
      "metadata": {
        "colab_type": "text",
        "id": "view-in-github"
      },
      "source": [
        "<a href=\"https://colab.research.google.com/github/BenguBarisBalkan/AIN-311_Project/blob/main/web_scaper.ipynb\" target=\"_parent\"><img src=\"https://colab.research.google.com/assets/colab-badge.svg\" alt=\"Open In Colab\"/></a>"
      ]
    },
    {
      "cell_type": "code",
      "execution_count": 2,
      "metadata": {
        "colab": {
          "base_uri": "https://localhost:8080/"
        },
        "id": "stKUT0s6tTl9",
        "outputId": "bda40f3c-6aa1-403a-fe7a-77d44b14e753"
      },
      "outputs": [
        {
          "name": "stdout",
          "output_type": "stream",
          "text": [
            "Requirement already satisfied: bs4 in /usr/local/lib/python3.10/dist-packages (0.0.1)\n",
            "Requirement already satisfied: beautifulsoup4 in /usr/local/lib/python3.10/dist-packages (from bs4) (4.11.2)\n",
            "Requirement already satisfied: soupsieve>1.2 in /usr/local/lib/python3.10/dist-packages (from beautifulsoup4->bs4) (2.5)\n",
            "Requirement already satisfied: lxml in /usr/local/lib/python3.10/dist-packages (4.9.3)\n"
          ]
        }
      ],
      "source": [
        "!pip install bs4\n",
        "!pip install lxml"
      ]
    },
    {
      "cell_type": "code",
      "execution_count": 79,
      "metadata": {
        "id": "ciTbHmQjtoMm"
      },
      "outputs": [],
      "source": [
        "import requests\n",
        "from bs4 import BeautifulSoup\n",
        "import pandas as pd"
      ]
    },
    {
      "cell_type": "code",
      "execution_count": 80,
      "metadata": {
        "id": "RYFyEP6It8J8"
      },
      "outputs": [],
      "source": [
        "url = \"https://www.spritmonitor.de/en/evaluation/co2_efficient_cars.html\""
      ]
    },
    {
      "cell_type": "code",
      "execution_count": 81,
      "metadata": {
        "id": "PIRROt7CucjH"
      },
      "outputs": [],
      "source": [
        "response = requests.get(url)"
      ]
    },
    {
      "cell_type": "code",
      "execution_count": 82,
      "metadata": {
        "id": "NG9WTiwfu5rt"
      },
      "outputs": [],
      "source": [
        "if response.status_code == 200:\n",
        "  html = response.text\n",
        "  soup = BeautifulSoup(html, \"lxml\")\n",
        "\n",
        "else:\n",
        "  print(\"Failed\")"
      ]
    },
    {
      "cell_type": "code",
      "execution_count": null,
      "metadata": {
        "colab": {
          "base_uri": "https://localhost:8080/"
        },
        "id": "E9Wtk6ALwBtC",
        "outputId": "5184c96c-4d71-4851-fd21-08b50e9aeec2"
      },
      "outputs": [],
      "source": [
        "print(soup.prettify())"
      ]
    },
    {
      "cell_type": "code",
      "execution_count": null,
      "metadata": {
        "colab": {
          "base_uri": "https://localhost:8080/"
        },
        "id": "Umx_uI2pwEQa",
        "outputId": "55224b91-af86-4d33-ebf4-6dab3db62d58"
      },
      "outputs": [],
      "source": [
        "tbody = soup.find('tbody')\n",
        "print(tbody)"
      ]
    },
    {
      "cell_type": "code",
      "execution_count": null,
      "metadata": {
        "colab": {
          "base_uri": "https://localhost:8080/"
        },
        "id": "ixVdCAxawjcq",
        "outputId": "8df2f38d-791d-46b5-830a-0ea07a68a296"
      },
      "outputs": [],
      "source": [
        "for x in tbody:\n",
        "  print(x)"
      ]
    },
    {
      "cell_type": "code",
      "execution_count": 84,
      "metadata": {
        "colab": {
          "base_uri": "https://localhost:8080/"
        },
        "id": "GSL9ijjGxctT",
        "outputId": "378c637e-019d-470d-92c7-68d578d363f2"
      },
      "outputs": [
        {
          "name": "stdout",
          "output_type": "stream",
          "text": [
            "1     Dacia Spring (85)              Electricity          67                  \n",
            "2     Volkswagen Up! (225)           Electricity          68                  \n",
            "3     Hyundai IONIQ (205)            Electricity          69                  \n",
            "4     Volkswagen Golf (200)          Electricity          70                  \n",
            "5     Renault Twingo (68)            Electricity          71                  \n",
            "6     Skoda Citigo (58)              Electricity          72                  \n",
            "7     Smart Fortwo (144)             Electricity          73                  \n",
            "8     Hyundai Kona (225)             Electricity          76                  \n",
            "9     Nissan Leaf (169)              Electricity          78                  \n",
            "10    BMW i3 (253)                   Electricity          78                  \n",
            "11    Fiat 500 (144)                 Electricity          79                  \n",
            "12    Renault ZOE (479)              Electricity          80                  \n",
            "13    Kia Soul (59)                  Electricity          80                  \n",
            "14    Mini Mini Cooper SE (106)      Electricity          82                  \n",
            "15    Kia Niro (150)                 Electricity          82                  \n",
            "16    Opel Corsa (105)               Electricity          84                  \n",
            "17    Peugeot 208 (81)               Electricity          86                  \n",
            "18    Tesla Motors Model 3 (590)     Electricity          89                  \n",
            "19    Cupra Born (71)                Electricity          90                  \n",
            "20    Volkswagen ID.3 (150)          Electricity          90                  \n",
            "21    Audi A2 3L (195)               Diesel               95                  \n",
            "22    Seat Mii (108)                 CNG                  96                  \n",
            "23    Tesla Motors Model Y (225)     Electricity          96                  \n",
            "24    Skoda Citigo (120)             CNG                  96                  \n",
            "25    Volkswagen ID.4 (98)           Electricity          97                  \n",
            "26    Kia EV6 (63)                   Electricity          97                  \n",
            "27    Volkswagen Lupo 3L (338)       Diesel               98                  \n",
            "28    Volkswagen Up! (384)           CNG                  98                  \n",
            "29    Hyundai Ioniq 5 (136)          Electricity          98                  \n",
            "30    Skoda Enyaq (185)              Electricity          99                  \n",
            "31    Tesla Motors Model S (127)     Electricity          100                 \n",
            "32    Toyota Prius (77)              LPG                  103                 \n",
            "33    Toyota Auris Hybrid (60)       LPG                  104                 \n",
            "34    Seat Ibiza (123)               CNG                  106                 \n",
            "35    Suzuki Celerio (85)            Gasoline             107                 \n",
            "36    Renault Twingo (53)            LPG                  110                 \n",
            "37    Hyundai IONIQ (366)            Gasoline             111                 \n",
            "38    Citroen AX (54)                Diesel               112                 \n",
            "39    Toyota Yaris Hybrid (1652)     Gasoline             112                 \n",
            "40    Smart Fortwo (2443)            Diesel               112                 \n",
            "41    Citroen C1 (65)                Diesel               113                 \n",
            "42    Seat Leon (158)                CNG                  114                 \n",
            "43    Fiat Panda (74)                LPG                  116                 \n",
            "44    Fiat Panda (188)               CNG                  116                 \n",
            "45    Skoda Octavia (337)            CNG                  117                 \n",
            "46    Seat Leon ST (255)             CNG                  117                 \n",
            "47    Kia Niro (479)                 Gasoline             118                 \n",
            "48    Volkswagen Golf (401)          CNG                  118                 \n",
            "49    Seat Arona (78)                CNG                  118                 \n",
            "50    Nissan Pixo (64)               Gasoline             119                 \n"
          ]
        }
      ],
      "source": [
        "trs = tbody.find_all('tr')\n",
        "\n",
        "for tr in trs:\n",
        "  info = tr.find_all('td')\n",
        "  print(f\"{info[0].text: <5} {info[1].text: <30} {info[2].text: <20} {info[3].text: <20}\")"
      ]
    },
    {
      "cell_type": "code",
      "execution_count": 85,
      "metadata": {
        "colab": {
          "base_uri": "https://localhost:8080/"
        },
        "id": "vwCaqT57x3jG",
        "outputId": "bf0527fc-eb0e-46f5-abf2-7f7a8ae32713"
      },
      "outputs": [
        {
          "name": "stdout",
          "output_type": "stream",
          "text": [
            "https://www.spritmonitor.de/en/overview/113-Dacia/1958-Spring.html?fueltype=5\n",
            "https://www.spritmonitor.de/en/overview/50-Volkswagen/1234-Up!.html?fueltype=5\n",
            "https://www.spritmonitor.de/en/overview/19-Hyundai/1554-IONIQ.html?fueltype=5\n",
            "https://www.spritmonitor.de/en/overview/50-Volkswagen/452-Golf.html?fueltype=5\n",
            "https://www.spritmonitor.de/en/overview/41-Renault/374-Twingo.html?fueltype=5\n",
            "https://www.spritmonitor.de/en/overview/45-Skoda/1289-Citigo.html?fueltype=5\n",
            "https://www.spritmonitor.de/en/overview/32-Smart/296-Fortwo.html?fueltype=5\n",
            "https://www.spritmonitor.de/en/overview/19-Hyundai/1638-Kona.html?fueltype=5\n",
            "https://www.spritmonitor.de/en/overview/33-Nissan/1296-Leaf.html?fueltype=5\n",
            "https://www.spritmonitor.de/en/overview/6-BMW/1312-i3.html?fueltype=5\n",
            "https://www.spritmonitor.de/en/overview/16-Fiat/761-500.html?fueltype=5\n",
            "https://www.spritmonitor.de/en/overview/41-Renault/1302-ZOE.html?fueltype=5\n",
            "https://www.spritmonitor.de/en/overview/23-Kia/1147-Soul.html?fueltype=5\n",
            "https://www.spritmonitor.de/en/overview/30-Mini/1804-Mini_Cooper_SE.html?fueltype=5\n",
            "https://www.spritmonitor.de/en/overview/23-Kia/1540-Niro.html?fueltype=5\n",
            "https://www.spritmonitor.de/en/overview/35-Opel/324-Corsa.html?fueltype=5\n",
            "https://www.spritmonitor.de/en/overview/36-Peugeot/1281-208.html?fueltype=5\n",
            "https://www.spritmonitor.de/en/overview/198-Tesla_Motors/1582-Model_3.html?fueltype=5\n",
            "https://www.spritmonitor.de/en/overview/269-Cupra/1971-Born.html?fueltype=5\n",
            "https://www.spritmonitor.de/en/overview/50-Volkswagen/1839-ID.3.html?fueltype=5\n",
            "https://www.spritmonitor.de/en/overview/3-Audi/1063-A2_3L.html?fueltype=1\n",
            "https://www.spritmonitor.de/en/overview/44-Seat/1284-Mii.html?fueltype=4\n",
            "https://www.spritmonitor.de/en/overview/198-Tesla_Motors/1927-Model_Y.html?fueltype=5\n",
            "https://www.spritmonitor.de/en/overview/45-Skoda/1289-Citigo.html?fueltype=4\n",
            "https://www.spritmonitor.de/en/overview/50-Volkswagen/1876-ID.4.html?fueltype=5\n",
            "https://www.spritmonitor.de/en/overview/23-Kia/1955-EV6.html?fueltype=5\n",
            "https://www.spritmonitor.de/en/overview/50-Volkswagen/984-Lupo_3L.html?fueltype=1\n",
            "https://www.spritmonitor.de/en/overview/50-Volkswagen/1234-Up!.html?fueltype=4\n",
            "https://www.spritmonitor.de/en/overview/19-Hyundai/1919-Ioniq_5.html?fueltype=5\n",
            "https://www.spritmonitor.de/en/overview/45-Skoda/1881-Enyaq.html?fueltype=5\n",
            "https://www.spritmonitor.de/en/overview/198-Tesla_Motors/1315-Model_S.html?fueltype=5\n",
            "https://www.spritmonitor.de/en/overview/49-Toyota/439-Prius.html?fueltype=3\n",
            "https://www.spritmonitor.de/en/overview/49-Toyota/1212-Auris_Hybrid.html?fueltype=3\n",
            "https://www.spritmonitor.de/en/overview/44-Seat/391-Ibiza.html?fueltype=4\n",
            "https://www.spritmonitor.de/en/overview/48-Suzuki/1448-Celerio.html?fueltype=2\n",
            "https://www.spritmonitor.de/en/overview/41-Renault/374-Twingo.html?fueltype=3\n",
            "https://www.spritmonitor.de/en/overview/19-Hyundai/1554-IONIQ.html?fueltype=2\n",
            "https://www.spritmonitor.de/en/overview/12-Citroen/80-AX.html?fueltype=1\n",
            "https://www.spritmonitor.de/en/overview/49-Toyota/1287-Yaris_Hybrid.html?fueltype=2\n",
            "https://www.spritmonitor.de/en/overview/32-Smart/296-Fortwo.html?fueltype=1\n",
            "https://www.spritmonitor.de/en/overview/12-Citroen/680-C1.html?fueltype=1\n",
            "https://www.spritmonitor.de/en/overview/44-Seat/392-Leon.html?fueltype=4\n",
            "https://www.spritmonitor.de/en/overview/16-Fiat/136-Panda.html?fueltype=3\n",
            "https://www.spritmonitor.de/en/overview/16-Fiat/136-Panda.html?fueltype=4\n",
            "https://www.spritmonitor.de/en/overview/45-Skoda/399-Octavia.html?fueltype=4\n",
            "https://www.spritmonitor.de/en/overview/44-Seat/1353-Leon_ST.html?fueltype=4\n",
            "https://www.spritmonitor.de/en/overview/23-Kia/1540-Niro.html?fueltype=2\n",
            "https://www.spritmonitor.de/en/overview/50-Volkswagen/452-Golf.html?fueltype=4\n",
            "https://www.spritmonitor.de/en/overview/44-Seat/1640-Arona.html?fueltype=4\n",
            "https://www.spritmonitor.de/en/overview/33-Nissan/1151-Pixo.html?fueltype=2\n"
          ]
        }
      ],
      "source": [
        "links = []\n",
        "for tr in trs:\n",
        "  info = tr.find_all('td')\n",
        "  link = \"https://www.spritmonitor.de\" + info[1].find('a').get('href').replace(' ', '_')\n",
        "  links.append(link)\n",
        "  print(f\"{link}\")"
      ]
    },
    {
      "cell_type": "code",
      "execution_count": 86,
      "metadata": {
        "id": "oyNaD2Jf1C4B"
      },
      "outputs": [],
      "source": [
        "with open('./spritmonitor_data/spritmonitor_links.txt', 'w') as file:\n",
        "  for link in links:\n",
        "    file.write(link + '\\n')"
      ]
    },
    {
      "cell_type": "code",
      "execution_count": 87,
      "metadata": {
        "id": "d7fu6Nr34hgI"
      },
      "outputs": [
        {
          "name": "stdout",
          "output_type": "stream",
          "text": [
            "https://www.spritmonitor.de/en/overview/113-Dacia/1958-Spring.html?fueltype=5\n",
            "https://www.spritmonitor.de/en/overview/50-Volkswagen/1234-Up!.html?fueltype=5\n",
            "https://www.spritmonitor.de/en/overview/19-Hyundai/1554-IONIQ.html?fueltype=5\n",
            "https://www.spritmonitor.de/en/overview/50-Volkswagen/452-Golf.html?fueltype=5\n",
            "https://www.spritmonitor.de/en/overview/41-Renault/374-Twingo.html?fueltype=5\n",
            "https://www.spritmonitor.de/en/overview/45-Skoda/1289-Citigo.html?fueltype=5\n",
            "https://www.spritmonitor.de/en/overview/32-Smart/296-Fortwo.html?fueltype=5\n",
            "https://www.spritmonitor.de/en/overview/19-Hyundai/1638-Kona.html?fueltype=5\n",
            "https://www.spritmonitor.de/en/overview/33-Nissan/1296-Leaf.html?fueltype=5\n",
            "https://www.spritmonitor.de/en/overview/6-BMW/1312-i3.html?fueltype=5\n",
            "https://www.spritmonitor.de/en/overview/16-Fiat/761-500.html?fueltype=5\n",
            "https://www.spritmonitor.de/en/overview/41-Renault/1302-ZOE.html?fueltype=5\n",
            "https://www.spritmonitor.de/en/overview/23-Kia/1147-Soul.html?fueltype=5\n",
            "https://www.spritmonitor.de/en/overview/30-Mini/1804-Mini_Cooper_SE.html?fueltype=5\n",
            "https://www.spritmonitor.de/en/overview/23-Kia/1540-Niro.html?fueltype=5\n",
            "https://www.spritmonitor.de/en/overview/35-Opel/324-Corsa.html?fueltype=5\n",
            "https://www.spritmonitor.de/en/overview/36-Peugeot/1281-208.html?fueltype=5\n",
            "https://www.spritmonitor.de/en/overview/198-Tesla_Motors/1582-Model_3.html?fueltype=5\n",
            "https://www.spritmonitor.de/en/overview/269-Cupra/1971-Born.html?fueltype=5\n",
            "https://www.spritmonitor.de/en/overview/50-Volkswagen/1839-ID.3.html?fueltype=5\n",
            "https://www.spritmonitor.de/en/overview/3-Audi/1063-A2_3L.html?fueltype=1\n",
            "https://www.spritmonitor.de/en/overview/44-Seat/1284-Mii.html?fueltype=4\n",
            "https://www.spritmonitor.de/en/overview/198-Tesla_Motors/1927-Model_Y.html?fueltype=5\n",
            "https://www.spritmonitor.de/en/overview/45-Skoda/1289-Citigo.html?fueltype=4\n",
            "https://www.spritmonitor.de/en/overview/50-Volkswagen/1876-ID.4.html?fueltype=5\n",
            "https://www.spritmonitor.de/en/overview/23-Kia/1955-EV6.html?fueltype=5\n",
            "https://www.spritmonitor.de/en/overview/50-Volkswagen/984-Lupo_3L.html?fueltype=1\n",
            "https://www.spritmonitor.de/en/overview/50-Volkswagen/1234-Up!.html?fueltype=4\n",
            "https://www.spritmonitor.de/en/overview/19-Hyundai/1919-Ioniq_5.html?fueltype=5\n",
            "https://www.spritmonitor.de/en/overview/45-Skoda/1881-Enyaq.html?fueltype=5\n",
            "https://www.spritmonitor.de/en/overview/198-Tesla_Motors/1315-Model_S.html?fueltype=5\n",
            "https://www.spritmonitor.de/en/overview/49-Toyota/439-Prius.html?fueltype=3\n",
            "https://www.spritmonitor.de/en/overview/49-Toyota/1212-Auris_Hybrid.html?fueltype=3\n",
            "https://www.spritmonitor.de/en/overview/44-Seat/391-Ibiza.html?fueltype=4\n",
            "https://www.spritmonitor.de/en/overview/48-Suzuki/1448-Celerio.html?fueltype=2\n",
            "https://www.spritmonitor.de/en/overview/41-Renault/374-Twingo.html?fueltype=3\n",
            "https://www.spritmonitor.de/en/overview/19-Hyundai/1554-IONIQ.html?fueltype=2\n",
            "https://www.spritmonitor.de/en/overview/12-Citroen/80-AX.html?fueltype=1\n",
            "https://www.spritmonitor.de/en/overview/49-Toyota/1287-Yaris_Hybrid.html?fueltype=2\n",
            "https://www.spritmonitor.de/en/overview/32-Smart/296-Fortwo.html?fueltype=1\n",
            "https://www.spritmonitor.de/en/overview/12-Citroen/680-C1.html?fueltype=1\n",
            "https://www.spritmonitor.de/en/overview/44-Seat/392-Leon.html?fueltype=4\n",
            "https://www.spritmonitor.de/en/overview/16-Fiat/136-Panda.html?fueltype=3\n",
            "https://www.spritmonitor.de/en/overview/16-Fiat/136-Panda.html?fueltype=4\n",
            "https://www.spritmonitor.de/en/overview/45-Skoda/399-Octavia.html?fueltype=4\n",
            "https://www.spritmonitor.de/en/overview/44-Seat/1353-Leon_ST.html?fueltype=4\n",
            "https://www.spritmonitor.de/en/overview/23-Kia/1540-Niro.html?fueltype=2\n",
            "https://www.spritmonitor.de/en/overview/50-Volkswagen/452-Golf.html?fueltype=4\n",
            "https://www.spritmonitor.de/en/overview/44-Seat/1640-Arona.html?fueltype=4\n",
            "https://www.spritmonitor.de/en/overview/33-Nissan/1151-Pixo.html?fueltype=2\n"
          ]
        }
      ],
      "source": [
        "links = []\n",
        "with open('./spritmonitor_data/spritmonitor_links.txt', 'r') as file:\n",
        "    for line in file:\n",
        "        links.append(line.strip())\n",
        "\n",
        "for link in links:\n",
        "    print(link)"
      ]
    },
    {
      "cell_type": "code",
      "execution_count": 89,
      "metadata": {},
      "outputs": [
        {
          "name": "stdout",
          "output_type": "stream",
          "text": [
            "85\n",
            "225\n",
            "206\n",
            "200\n",
            "68\n",
            "58\n",
            "144\n",
            "225\n",
            "169\n",
            "253\n",
            "144\n",
            "479\n",
            "59\n",
            "106\n",
            "150\n",
            "105\n",
            "81\n",
            "590\n",
            "71\n",
            "150\n",
            "195\n",
            "108\n",
            "225\n",
            "120\n",
            "98\n",
            "63\n",
            "338\n",
            "384\n",
            "136\n",
            "185\n",
            "127\n",
            "77\n",
            "60\n",
            "123\n",
            "85\n",
            "53\n",
            "529\n",
            "54\n",
            "2191\n",
            "2443\n",
            "65\n",
            "158\n",
            "74\n",
            "188\n",
            "337\n",
            "255\n",
            "708\n",
            "402\n",
            "78\n",
            "64\n"
          ]
        }
      ],
      "source": [
        "all_cars = []\n",
        "for url in links:\n",
        "    car_links = []\n",
        "    # connect to the first page\n",
        "    response = requests.get(url)\n",
        "\n",
        "    if response.status_code == 200:\n",
        "        html = response.text\n",
        "        soup = BeautifulSoup(html, \"lxml\")\n",
        "\n",
        "    else:\n",
        "        print(\"Failed\")\n",
        "\n",
        "    # get the car links from the first page\n",
        "    trs = soup.find('tbody').find_all('tr')\n",
        "    for tr in trs:\n",
        "        info = tr.find_all('td')\n",
        "        car_link = 'https://www.spritmonitor.de' + info[1].find('a').get('href')\n",
        "        #print(car_link)\n",
        "        car_links.append(car_link)\n",
        "\n",
        "    \n",
        "    # find next pages' links\n",
        "    next_page_url = 'https://www.spritmonitor.de' + soup.find('div', class_ = 'paginationControl').find_all('a')[-1].get('href')\n",
        "\n",
        "    # iterate over next pages until the last\n",
        "    while True:\n",
        "        response = requests.get(next_page_url)\n",
        "        if response.status_code == 200:\n",
        "            html = response.text\n",
        "            soup = BeautifulSoup(html, \"lxml\")\n",
        "\n",
        "        else:\n",
        "            print(\"Failed\")\n",
        "            break\n",
        "\n",
        "        # find car links\n",
        "        trs = soup.find('tbody').find_all('tr')\n",
        "        for tr in trs:\n",
        "            info = tr.find_all('td')\n",
        "            car_link = 'https://www.spritmonitor.de' + info[1].find('a').get('href')\n",
        "            #print(car_link)\n",
        "            car_links.append(car_link)\n",
        "        \n",
        "        # find next page\n",
        "        next_link = 'https://www.spritmonitor.de' + soup.find('div', class_ = 'paginationControl').find_all('a')[-1].get('href')\n",
        "        \n",
        "        end_p = soup.find('div', class_ = 'paginationControl').find('span', class_ = 'disabled')\n",
        "        # if the last page has an end_p class, end the loop\n",
        "        \n",
        "        if end_p == None:\n",
        "            next_page_url = next_link\n",
        "        else:\n",
        "            break\n",
        "    \n",
        "    print(len(car_links))\n",
        "    all_cars.extend(car_links)"
      ]
    },
    {
      "cell_type": "code",
      "execution_count": 90,
      "metadata": {},
      "outputs": [],
      "source": [
        "\n",
        "with open('./spritmonitor_data/car_links.txt', 'w') as file:\n",
        "    for car_link in all_cars:\n",
        "        file.write(car_link + '\\n')"
      ]
    }
  ],
  "metadata": {
    "colab": {
      "authorship_tag": "ABX9TyNGmj4kgzItUhYkm1sUM2dk",
      "include_colab_link": true,
      "provenance": []
    },
    "kernelspec": {
      "display_name": "Python 3",
      "name": "python3"
    },
    "language_info": {
      "codemirror_mode": {
        "name": "ipython",
        "version": 3
      },
      "file_extension": ".py",
      "mimetype": "text/x-python",
      "name": "python",
      "nbconvert_exporter": "python",
      "pygments_lexer": "ipython3",
      "version": "3.10.7"
    }
  },
  "nbformat": 4,
  "nbformat_minor": 0
}
