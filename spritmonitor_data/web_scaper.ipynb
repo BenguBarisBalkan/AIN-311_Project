{
  "cells": [
    {
      "cell_type": "markdown",
      "metadata": {
        "colab_type": "text",
        "id": "view-in-github"
      },
      "source": [
        "<a href=\"https://colab.research.google.com/github/BenguBarisBalkan/AIN-311_Project/blob/main/web_scaper.ipynb\" target=\"_parent\"><img src=\"https://colab.research.google.com/assets/colab-badge.svg\" alt=\"Open In Colab\"/></a>"
      ]
    },
    {
      "cell_type": "code",
      "execution_count": null,
      "metadata": {
        "id": "stKUT0s6tTl9"
      },
      "outputs": [],
      "source": [
        "!pip install bs4\n",
        "!pip install lxml"
      ]
    },
    {
      "cell_type": "code",
      "execution_count": 1,
      "metadata": {
        "id": "ciTbHmQjtoMm"
      },
      "outputs": [],
      "source": [
        "import requests\n",
        "from bs4 import BeautifulSoup\n",
        "import pandas as pd"
      ]
    },
    {
      "cell_type": "code",
      "execution_count": null,
      "metadata": {
        "id": "RYFyEP6It8J8"
      },
      "outputs": [],
      "source": [
        "url = \"https://www.spritmonitor.de/en/evaluation/co2_efficient_cars.html\""
      ]
    },
    {
      "cell_type": "code",
      "execution_count": null,
      "metadata": {
        "id": "PIRROt7CucjH"
      },
      "outputs": [],
      "source": [
        "response = requests.get(url)"
      ]
    },
    {
      "cell_type": "code",
      "execution_count": null,
      "metadata": {
        "id": "NG9WTiwfu5rt"
      },
      "outputs": [],
      "source": [
        "if response.status_code == 200:\n",
        "  html = response.text\n",
        "  soup = BeautifulSoup(html, \"lxml\")\n",
        "\n",
        "else:\n",
        "  print(\"Failed\")"
      ]
    },
    {
      "cell_type": "code",
      "execution_count": null,
      "metadata": {
        "id": "E9Wtk6ALwBtC"
      },
      "outputs": [],
      "source": [
        "print(soup.prettify())"
      ]
    },
    {
      "cell_type": "code",
      "execution_count": null,
      "metadata": {
        "id": "Umx_uI2pwEQa"
      },
      "outputs": [],
      "source": [
        "tbody = soup.find('tbody')\n",
        "print(tbody)"
      ]
    },
    {
      "cell_type": "code",
      "execution_count": null,
      "metadata": {
        "id": "ixVdCAxawjcq"
      },
      "outputs": [],
      "source": [
        "for x in tbody:\n",
        "  print(x)"
      ]
    },
    {
      "cell_type": "code",
      "execution_count": null,
      "metadata": {
        "colab": {
          "base_uri": "https://localhost:8080/"
        },
        "id": "GSL9ijjGxctT",
        "outputId": "378c637e-019d-470d-92c7-68d578d363f2"
      },
      "outputs": [
        {
          "name": "stdout",
          "output_type": "stream",
          "text": [
            "1     Dacia Spring (85)              Electricity          67                  \n",
            "2     Volkswagen Up! (225)           Electricity          68                  \n",
            "3     Hyundai IONIQ (205)            Electricity          69                  \n",
            "4     Volkswagen Golf (198)          Electricity          70                  \n",
            "5     Renault Twingo (68)            Electricity          71                  \n",
            "6     Skoda Citigo (58)              Electricity          72                  \n",
            "7     Smart Fortwo (144)             Electricity          73                  \n",
            "8     Hyundai Kona (225)             Electricity          76                  \n",
            "9     Nissan Leaf (169)              Electricity          78                  \n",
            "10    BMW i3 (253)                   Electricity          78                  \n",
            "11    Fiat 500 (142)                 Electricity          79                  \n",
            "12    Renault ZOE (478)              Electricity          80                  \n",
            "13    Kia Soul (59)                  Electricity          80                  \n",
            "14    Mini Mini Cooper SE (106)      Electricity          82                  \n",
            "15    Kia Niro (150)                 Electricity          82                  \n",
            "16    Opel Corsa (106)               Electricity          84                  \n",
            "17    Peugeot 208 (81)               Electricity          86                  \n",
            "18    Tesla Motors Model 3 (589)     Electricity          89                  \n",
            "19    Cupra Born (71)                Electricity          90                  \n",
            "20    Volkswagen ID.3 (150)          Electricity          90                  \n",
            "21    Audi A2 3L (195)               Diesel               95                  \n",
            "22    Seat Mii (108)                 CNG                  96                  \n",
            "23    Tesla Motors Model Y (225)     Electricity          96                  \n",
            "24    Skoda Citigo (120)             CNG                  96                  \n",
            "25    Volkswagen ID.4 (98)           Electricity          97                  \n",
            "26    Kia EV6 (63)                   Electricity          97                  \n",
            "27    Volkswagen Lupo 3L (338)       Diesel               98                  \n",
            "28    Volkswagen Up! (384)           CNG                  98                  \n",
            "29    Hyundai Ioniq 5 (136)          Electricity          98                  \n",
            "30    Skoda Enyaq (184)              Electricity          99                  \n",
            "31    Tesla Motors Model S (127)     Electricity          100                 \n",
            "32    Toyota Prius (77)              LPG                  103                 \n",
            "33    Toyota Auris Hybrid (60)       LPG                  104                 \n",
            "34    Seat Ibiza (122)               CNG                  106                 \n",
            "35    Polestar Polestar 2 (51)       Electricity          106                 \n",
            "36    Suzuki Celerio (85)            Gasoline             107                 \n",
            "37    Renault Twingo (53)            LPG                  110                 \n",
            "38    Hyundai IONIQ (366)            Gasoline             111                 \n",
            "39    Citroen AX (54)                Diesel               112                 \n",
            "40    Toyota Yaris Hybrid (1651)     Gasoline             112                 \n",
            "41    Smart Fortwo (2442)            Diesel               112                 \n",
            "42    Citroen C1 (65)                Diesel               113                 \n",
            "43    Seat Leon (158)                CNG                  114                 \n",
            "44    Fiat Panda (74)                LPG                  116                 \n",
            "45    Fiat Panda (188)               CNG                  116                 \n",
            "46    Skoda Octavia (337)            CNG                  117                 \n",
            "47    Seat Leon ST (255)             CNG                  117                 \n",
            "48    Kia Niro (479)                 Gasoline             118                 \n",
            "49    Volkswagen Golf (401)          CNG                  118                 \n",
            "50    Seat Arona (78)                CNG                  118                 \n"
          ]
        }
      ],
      "source": [
        "trs = tbody.find_all('tr')\n",
        "\n",
        "for tr in trs:\n",
        "  info = tr.find_all('td')\n",
        "  print(f\"{info[0].text: <5} {info[1].text: <30} {info[2].text: <20} {info[3].text: <20}\")"
      ]
    },
    {
      "cell_type": "code",
      "execution_count": null,
      "metadata": {
        "colab": {
          "base_uri": "https://localhost:8080/"
        },
        "id": "vwCaqT57x3jG",
        "outputId": "9a7f3d27-6ff1-4084-a83c-42b81fd2a0c2"
      },
      "outputs": [],
      "source": [
        "links = []\n",
        "for tr in trs:\n",
        "  info = tr.find_all('td')\n",
        "  link = \"https://www.spritmonitor.de/\" + info[1].find('a').get('href').replace(' ', '_')\n",
        "  links.append(link)\n",
        "  print(f\"{link}\")"
      ]
    },
    {
      "cell_type": "code",
      "execution_count": null,
      "metadata": {
        "id": "oyNaD2Jf1C4B"
      },
      "outputs": [],
      "source": [
        "with open('spritmonitor_links.txt', 'w') as file:\n",
        "  for link in links:\n",
        "    file.write(link + '\\n')"
      ]
    },
    {
      "cell_type": "code",
      "execution_count": 2,
      "metadata": {
        "id": "d7fu6Nr34hgI"
      },
      "outputs": [],
      "source": [
        "car_links = []\n",
        "\n",
        "with open('car_links.txt', 'r') as file:\n",
        "    for car_link in file:\n",
        "        car_links.append(car_link.strip())"
      ]
    },
    {
      "cell_type": "code",
      "execution_count": null,
      "metadata": {
        "colab": {
          "base_uri": "https://localhost:8080/"
        },
        "id": "PmLDSTvx4_RI",
        "outputId": "deff19fb-0562-4207-829b-552eb0107180"
      },
      "outputs": [],
      "source": [
        "print(car_links)"
      ]
    },
    {
      "cell_type": "code",
      "execution_count": 5,
      "metadata": {
        "colab": {
          "base_uri": "https://localhost:8080/",
          "height": 542
        },
        "id": "rM2sPobc5Cb4",
        "outputId": "015ff541-dcce-476a-b539-b0ed8431ccab"
      },
      "outputs": [
        {
          "name": "stdout",
          "output_type": "stream",
          "text": [
            "Dacia  - Spring - Spring 30\n",
            "Dacia  - Spring - comfort plus 41\n",
            "Dacia  - Spring - Comfort Plus (MY22) 50\n",
            "Dacia  - Spring - Spring 51\n",
            "Dacia  - Spring - Spring Confort 51\n",
            "Dacia  - Spring - comfort plus 51\n",
            "Dacia  - Spring - Spring Electric Comfort Plus 0\n",
            "Dacia  - Spring - Spring 7\n",
            "Dacia  - Spring - Spring 56\n",
            "Dacia  - Spring - Confort Plus 58\n",
            "HTTPSConnectionPool(host='www.spritmonitor.de', port=443): Max retries exceeded with url: /en/detail/1438215.html (Caused by NewConnectionError('<urllib3.connection.HTTPSConnection object at 0x7c1679ec2e90>: Failed to establish a new connection: [Errno 111] Connection refused'))\n",
            "HTTPSConnectionPool(host='www.spritmonitor.de', port=443): Max retries exceeded with url: /en/detail/1332284.html (Caused by NewConnectionError('<urllib3.connection.HTTPSConnection object at 0x7c1679ec3550>: Failed to establish a new connection: [Errno 111] Connection refused'))\n",
            "HTTPSConnectionPool(host='www.spritmonitor.de', port=443): Max retries exceeded with url: /en/detail/1376829.html (Caused by NewConnectionError('<urllib3.connection.HTTPSConnection object at 0x7c1679ec3d30>: Failed to establish a new connection: [Errno 111] Connection refused'))\n",
            "HTTPSConnectionPool(host='www.spritmonitor.de', port=443): Max retries exceeded with url: /en/detail/1443811.html (Caused by NewConnectionError('<urllib3.connection.HTTPSConnection object at 0x7c1679eec550>: Failed to establish a new connection: [Errno 111] Connection refused'))\n",
            "HTTPSConnectionPool(host='www.spritmonitor.de', port=443): Max retries exceeded with url: /en/detail/1355804.html (Caused by NewConnectionError('<urllib3.connection.HTTPSConnection object at 0x7c1679eecd00>: Failed to establish a new connection: [Errno 111] Connection refused'))\n",
            "HTTPSConnectionPool(host='www.spritmonitor.de', port=443): Max retries exceeded with url: /en/detail/1442037.html (Caused by NewConnectionError('<urllib3.connection.HTTPSConnection object at 0x7c1679ec3700>: Failed to establish a new connection: [Errno 111] Connection refused'))\n",
            "HTTPSConnectionPool(host='www.spritmonitor.de', port=443): Max retries exceeded with url: /en/detail/1496186.html (Caused by NewConnectionError('<urllib3.connection.HTTPSConnection object at 0x7c1679ec2fb0>: Failed to establish a new connection: [Errno 111] Connection refused'))\n"
          ]
        },
        {
          "ename": "KeyboardInterrupt",
          "evalue": "ignored",
          "output_type": "error",
          "traceback": [
            "\u001b[0;31m---------------------------------------------------------------------------\u001b[0m",
            "\u001b[0;31mKeyboardInterrupt\u001b[0m                         Traceback (most recent call last)",
            "\u001b[0;32m<ipython-input-5-6e7baaa95236>\u001b[0m in \u001b[0;36m<cell line: 5>\u001b[0;34m()\u001b[0m\n\u001b[1;32m     28\u001b[0m \u001b[0;34m\u001b[0m\u001b[0m\n\u001b[1;32m     29\u001b[0m     \u001b[0mi\u001b[0m \u001b[0;34m+=\u001b[0m \u001b[0;36m1\u001b[0m\u001b[0;34m\u001b[0m\u001b[0;34m\u001b[0m\u001b[0m\n\u001b[0;32m---> 30\u001b[0;31m     \u001b[0mtime\u001b[0m\u001b[0;34m.\u001b[0m\u001b[0msleep\u001b[0m\u001b[0;34m(\u001b[0m\u001b[0;36m10\u001b[0m\u001b[0;34m)\u001b[0m\u001b[0;34m\u001b[0m\u001b[0;34m\u001b[0m\u001b[0m\n\u001b[0m\u001b[1;32m     31\u001b[0m \u001b[0;34m\u001b[0m\u001b[0m\n",
            "\u001b[0;31mKeyboardInterrupt\u001b[0m: "
          ]
        }
      ],
      "source": [
        "import time\n",
        "car_names, car_co2s = [], []\n",
        "\n",
        "i = 0\n",
        "while i < len(car_links):\n",
        "\n",
        "    car_link = car_links[i]\n",
        "\n",
        "    try:\n",
        "      response = requests.get(car_link)\n",
        "\n",
        "      if response.status_code == 200:\n",
        "              html = response.text\n",
        "              soup = BeautifulSoup(html, \"lxml\")\n",
        "\n",
        "      else:\n",
        "          print(\"Failed\")\n",
        "\n",
        "      name = soup.find('div', id = 'vehicledetails').find('h1').text\n",
        "      co2 = soup.find('table', class_ = 'detailtable').findAll('strong')[1].text\n",
        "\n",
        "      car_names.append(name)\n",
        "      car_co2s.append(co2)\n",
        "\n",
        "      print(name, co2)\n",
        "    except Exception as e:\n",
        "      print(e)\n",
        "\n",
        "    i += 1\n",
        "    time.sleep(10)\n",
        "\n"
      ]
    },
    {
      "cell_type": "code",
      "execution_count": null,
      "metadata": {
        "id": "YOpur1Xz6cHH"
      },
      "outputs": [],
      "source": []
    }
  ],
  "metadata": {
    "colab": {
      "authorship_tag": "ABX9TyMZvlsKXz1LxWghwj39LwnK",
      "include_colab_link": true,
      "provenance": []
    },
    "kernelspec": {
      "display_name": "Python 3",
      "name": "python3"
    },
    "language_info": {
      "name": "python",
      "version": "3.10.7"
    }
  },
  "nbformat": 4,
  "nbformat_minor": 0
}
